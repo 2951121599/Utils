{
 "cells": [
  {
   "cell_type": "code",
   "execution_count": null,
   "metadata": {
    "collapsed": true
   },
   "outputs": [],
   "source": [
    "# 可根据火车票身份证号信息推测出他的身份证号  (缺少月份日期)\n",
    "# pip install id-validator\n",
    "# 可以用来验证身份证号合法性、获取身份证号信息、生成可通过校验的假数据、身份证升级"
   ]
  },
  {
   "cell_type": "code",
   "execution_count": 1,
   "outputs": [],
   "source": [
    "import time\n",
    "\n",
    "#生成出生当年所有日期\n",
    "def dateRange(year):\n",
    "    fmt = '%Y-%m-%d'\n",
    "    bgn = int(time.mktime(time.strptime(year+'-01-01',fmt)))\n",
    "    end = int(time.mktime(time.strptime(year+'-12-31',fmt)))\n",
    "    list_date = [time.strftime(fmt,time.localtime(i)) for i in range(bgn,end+1,3600*24)]\n",
    "    return [i.replace('-','') for i in list_date]\n",
    "\n",
    "data_time  = dateRange('2020')"
   ],
   "metadata": {
    "collapsed": false,
    "pycharm": {
     "name": "#%%\n"
    }
   }
  },
  {
   "cell_type": "code",
   "execution_count": 8,
   "outputs": [
    {
     "name": "stdout",
     "output_type": "stream",
     "text": [
      "130528199601031819\n",
      "130528199601111819\n",
      "130528199602181819\n",
      "130528199602261819\n",
      "130528199603061819\n",
      "130528199603141819\n",
      "130528199603221819\n",
      "130528199603301819\n",
      "130528199604021819\n",
      "130528199604101819\n",
      "130528199604291819\n",
      "130528199605091819\n",
      "130528199605171819\n",
      "130528199605251819\n",
      "130528199606051819\n",
      "130528199606131819\n",
      "130528199606211819\n",
      "130528199607011819\n",
      "130528199607281819\n",
      "130528199608081819\n",
      "130528199608161819\n",
      "130528199608241819\n",
      "130528199609041819\n",
      "130528199609121819\n",
      "130528199609201819\n",
      "130528199610181819\n",
      "130528199610261819\n",
      "130528199611061819\n",
      "130528199611141819\n",
      "130528199611221819\n",
      "130528199611301819\n",
      "130528199612021819\n",
      "130528199612101819\n",
      "130528199612291819\n",
      "输出完成! 共34条有效数据! \n"
     ]
    }
   ],
   "source": [
    "from id_validator import validator\n",
    "\n",
    "#遍历所有日期，print通过校验的身份证号码\n",
    "cnt = 0\n",
    "def my_validator(id1,id2,id3):\n",
    "    global cnt\n",
    "    for i in dateRange(id2):\n",
    "        sfz_id = id1 + i + id3\n",
    "        if validator.is_valid(sfz_id):\n",
    "            print(sfz_id)\n",
    "            cnt = cnt + 1\n",
    "\n",
    "my_validator('330221','1993','4914')\n",
    "print(\"输出完成! 共%d条有效数据! \" %cnt)"
   ],
   "metadata": {
    "collapsed": false,
    "pycharm": {
     "name": "#%%\n"
    }
   }
  },
  {
   "cell_type": "markdown",
   "source": [
    "打开12306官网，\n",
    "\n",
    "在12306添加常用联系人，\n",
    "\n",
    "将李大伟+身份证号依次输入。\n",
    "\n",
    "若身份证和姓名一致，就会显示校验通过；\n",
    "\n",
    "若不能通过，则说明身份证和姓名不一致。"
   ],
   "metadata": {
    "collapsed": false,
    "pycharm": {
     "name": "#%% md\n"
    }
   }
  },
  {
   "cell_type": "markdown",
   "source": [
    "or 其他方式验证"
   ],
   "metadata": {
    "collapsed": false
   }
  }
 ],
 "metadata": {
  "kernelspec": {
   "display_name": "Python 3",
   "language": "python",
   "name": "python3"
  },
  "language_info": {
   "codemirror_mode": {
    "name": "ipython",
    "version": 2
   },
   "file_extension": ".py",
   "mimetype": "text/x-python",
   "name": "python",
   "nbconvert_exporter": "python",
   "pygments_lexer": "ipython2",
   "version": "2.7.6"
  }
 },
 "nbformat": 4,
 "nbformat_minor": 0
}