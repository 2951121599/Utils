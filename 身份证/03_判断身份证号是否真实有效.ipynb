{
 "cells": [
  {
   "cell_type": "code",
   "execution_count": 6,
   "metadata": {
    "collapsed": true
   },
   "outputs": [
    {
     "name": "stdout",
     "output_type": "stream",
     "text": [
      "无效\n"
     ]
    }
   ],
   "source": [
    "from id_validator import validator\n",
    "\n",
    "# 校验身份证号码是否有效\n",
    "def my_validator(sfz_id):\n",
    "    if validator.is_valid(sfz_id):\n",
    "        print(\"有效\")\n",
    "    else:\n",
    "        print(\"无效\")\n",
    "sfz_id = '13122510291815'\n",
    "my_validator(sfz_id)"
   ]
  }
 ],
 "metadata": {
  "kernelspec": {
   "display_name": "Python 3",
   "language": "python",
   "name": "python3"
  },
  "language_info": {
   "codemirror_mode": {
    "name": "ipython",
    "version": 2
   },
   "file_extension": ".py",
   "mimetype": "text/x-python",
   "name": "python",
   "nbconvert_exporter": "python",
   "pygments_lexer": "ipython2",
   "version": "2.7.6"
  }
 },
 "nbformat": 4,
 "nbformat_minor": 0
}