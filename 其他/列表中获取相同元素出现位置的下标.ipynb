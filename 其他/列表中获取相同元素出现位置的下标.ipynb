{
 "cells": [
  {
   "cell_type": "code",
   "execution_count": 2,
   "metadata": {
    "collapsed": true
   },
   "outputs": [
    {
     "name": "stdout",
     "output_type": "stream",
     "text": [
      "4\n"
     ]
    }
   ],
   "source": [
    "# 定义列表\n",
    "l = [\"a\", \"b\", \"c\", \"a\", \"b\", \"c\", \"a\"]\n",
    "# 定义通用的获取某元素在列表中第n次出现的位置下标的函数\n",
    "def get_index(l, x, n):\n",
    "    if n <= l.count(x):\n",
    "        all_index = [key for key, value in enumerate(l) if value == x]\n",
    "        return all_index[n-1]\n",
    "    else:\n",
    "        return None\n",
    "# 调用函数, 获取结果\n",
    "result_l = get_index(l, \"b\", 2)\n",
    "print(result_l)"
   ]
  },
  {
   "cell_type": "code",
   "execution_count": 3,
   "outputs": [
    {
     "name": "stdout",
     "output_type": "stream",
     "text": [
      "3\n"
     ]
    }
   ],
   "source": [
    "# 定义列表\n",
    "l = [\"a\", \"b\", \"c\", \"a\", \"b\", \"c\", \"a\"]\n",
    "# 获取第一个\"a\"的下标\n",
    "index_one = l.index(\"a\")\n",
    "# 从第一个\"a\"的下一个位置开始查找, 所以加1\n",
    "print(l.index(\"a\", index_one + 1))"
   ],
   "metadata": {
    "collapsed": false,
    "pycharm": {
     "name": "#%%\n"
    }
   }
  }
 ],
 "metadata": {
  "kernelspec": {
   "display_name": "Python 3",
   "language": "python",
   "name": "python3"
  },
  "language_info": {
   "codemirror_mode": {
    "name": "ipython",
    "version": 2
   },
   "file_extension": ".py",
   "mimetype": "text/x-python",
   "name": "python",
   "nbconvert_exporter": "python",
   "pygments_lexer": "ipython2",
   "version": "2.7.6"
  }
 },
 "nbformat": 4,
 "nbformat_minor": 0
}